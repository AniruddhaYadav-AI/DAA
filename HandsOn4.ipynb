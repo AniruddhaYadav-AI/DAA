{
  "nbformat": 4,
  "nbformat_minor": 0,
  "metadata": {
    "colab": {
      "provenance": [],
      "authorship_tag": "ABX9TyPa23/xOvVfvM+beyZ+5IGg",
      "include_colab_link": true
    },
    "kernelspec": {
      "name": "python3",
      "display_name": "Python 3"
    },
    "language_info": {
      "name": "python"
    }
  },
  "cells": [
    {
      "cell_type": "markdown",
      "metadata": {
        "id": "view-in-github",
        "colab_type": "text"
      },
      "source": [
        "<a href=\"https://colab.research.google.com/github/AniruddhaYadav-AI/DAA/blob/main/HandsOn4.ipynb\" target=\"_parent\"><img src=\"https://colab.research.google.com/assets/colab-badge.svg\" alt=\"Open In Colab\"/></a>"
      ]
    },
    {
      "cell_type": "markdown",
      "source": [
        "Problem 0"
      ],
      "metadata": {
        "id": "sdeNTvIvKSmO"
      }
    },
    {
      "cell_type": "code",
      "execution_count": null,
      "metadata": {
        "id": "y-sHCRC1KHMu"
      },
      "outputs": [],
      "source": [
        "def fib(n):\n",
        "    if n == 0:\n",
        "        return 0\n",
        "    if n == 1:\n",
        "        return 1\n",
        "    return fib(n-1) + fib(n-2)\n"
      ]
    },
    {
      "cell_type": "markdown",
      "source": [
        "**Stepping into fib(5)**\n",
        "To track the recursive calls, we follow the structure exactly as described. Below is the recursive call stack for fib(5):\n",
        "\n",
        "fib(5) calls fib(4) and fib(3)\n",
        "\n",
        "fib(4) calls fib(3) and fib(2)\n",
        "\n",
        "fib(3) calls fib(2) and fib(1)\n",
        "\n",
        "fib(2) calls fib(1) and fib(0)\n",
        "\n",
        "fib(1) returns 1\n",
        "\n",
        "fib(0) returns 0\n",
        "\n",
        "fib(2) returns 1 + 0 = 1\n",
        "\n",
        "fib(1) returns 1\n",
        "\n",
        "fib(3) returns 1 + 1 = 2\n",
        "\n",
        "fib(2) calls fib(1) and fib(0)\n",
        "\n",
        "fib(1) returns 1\n",
        "\n",
        "fib(0) returns 0\n",
        "\n",
        "fib(2) returns 1 + 0 = 1\n",
        "\n",
        "fib(4) returns 2 + 1 = 3\n",
        "\n",
        "fib(3) calls fib(2) and fib(1)\n",
        "\n",
        "fib(2) calls fib(1) and fib(0)\n",
        "\n",
        "fib(1) returns 1\n",
        "\n",
        "fib(0) returns 0\n",
        "\n",
        "fib(2) returns 1 + 0 = 1\n",
        "\n",
        "fib(1) returns 1\n",
        "\n",
        "fib(3) returns 1 + 1 = 2\n",
        "\n",
        "fib(5) returns 3 + 2 = 5"
      ],
      "metadata": {
        "id": "LUHGn8pWK5Ki"
      }
    },
    {
      "cell_type": "code",
      "source": [
        "# fib(5) -> fib(4) -> fib(3) -> fib(2) -> fib(1)\n",
        "#                 -> fib(2) -> fib(1)\n",
        "#          -> fib(3) -> fib(2) -> fib(1)\n",
        "#                 -> fib(1)\n",
        "# -> fib(3) -> fib(2) -> fib(1)\n",
        "#                 -> fib(1)\n",
        "print(fib(5))"
      ],
      "metadata": {
        "colab": {
          "base_uri": "https://localhost:8080/"
        },
        "id": "XRueL-4iLg_6",
        "outputId": "7162b849-936b-459c-a711-cc2e57bb2ac8"
      },
      "execution_count": null,
      "outputs": [
        {
          "output_type": "stream",
          "name": "stdout",
          "text": [
            "5\n"
          ]
        }
      ]
    },
    {
      "cell_type": "markdown",
      "source": [
        "Problem 1: Merging K Sorted Arrays"
      ],
      "metadata": {
        "id": "AAZhS19iNbFp"
      }
    },
    {
      "cell_type": "code",
      "source": [
        "import heapq\n",
        "\n",
        "def merge_k_sorted_arrays(arrays):\n",
        "    min_heap = []\n",
        "\n",
        "    # Push the first element of each array along with the array index and element index\n",
        "    for i, array in enumerate(arrays):\n",
        "        if array:  # check if the array is non-empty\n",
        "            heapq.heappush(min_heap, (array[0], i, 0))\n",
        "\n",
        "    result = []\n",
        "\n",
        "    while min_heap:\n",
        "        value, array_index, element_index = heapq.heappop(min_heap)\n",
        "        result.append(value)\n",
        "\n",
        "        # If the next element in the same array exists, add it to the heap\n",
        "        if element_index + 1 < len(arrays[array_index]):\n",
        "            next_value = arrays[array_index][element_index + 1]\n",
        "            heapq.heappush(min_heap, (next_value, array_index, element_index + 1))\n",
        "\n",
        "    return result\n"
      ],
      "metadata": {
        "id": "GE39MqTHNkgc"
      },
      "execution_count": null,
      "outputs": []
    },
    {
      "cell_type": "markdown",
      "source": [
        "Time Complexity Analysis\n",
        "The time complexity is O(K * N log K), where:\n",
        "\n",
        "K is the number of arrays.\n",
        "\n",
        "N is the size of each array.\n",
        "\n",
        "The heap operations (heappush and heappop) take O(log K) time, and we perform them for each element, leading to K * N total elements.\n",
        "\n",
        "Possible Improvements\n",
        "\n",
        "1. Use Divide and Conquer: You could use a divide-and-conquer approach to merge arrays in pairs, which could improve performance over a single heap-based solution in some cases.\n",
        "\n",
        "2. Parallel Processing: If processing time is an issue, you could split the task of merging into separate threads for parallel computation."
      ],
      "metadata": {
        "id": "iKk_LaQJO1g8"
      }
    },
    {
      "cell_type": "markdown",
      "source": [
        "Problem 2: Remove Duplicates from a Sorted Array"
      ],
      "metadata": {
        "id": "RBS3Ob6DPHoj"
      }
    },
    {
      "cell_type": "code",
      "source": [
        "def remove_duplicates(arr):\n",
        "    if not arr:\n",
        "        return []\n",
        "\n",
        "    # Initialize the write index to the first element\n",
        "    write_index = 1\n",
        "\n",
        "    # Traverse the array starting from the second element\n",
        "    for i in range(1, len(arr)):\n",
        "        if arr[i] != arr[i - 1]:\n",
        "            arr[write_index] = arr[i]\n",
        "            write_index += 1\n",
        "\n",
        "    # Return the array up to the point where unique elements were written\n",
        "    return arr[:write_index]\n"
      ],
      "metadata": {
        "id": "tpG6wgL2PFCj"
      },
      "execution_count": null,
      "outputs": []
    },
    {
      "cell_type": "markdown",
      "source": [
        "Time Complexity Analysis\n",
        "\n",
        "The time complexity is O(N), where N is the size of the input array. We only traverse the array once, and all operations inside the loop are O(1).\n",
        "\n",
        "Possible Improvements\n",
        "\n",
        "1. In-Place Optimization: The algorithm already operates in O(1) space complexity (in-place), so there is little room for improvement without altering the problem's constraints.\n",
        "\n",
        "2. Parallel Processing: For extremely large arrays, partitioning the array and processing segments in parallel could be considered."
      ],
      "metadata": {
        "id": "Lx8GyWnFPP9F"
      }
    }
  ]
}
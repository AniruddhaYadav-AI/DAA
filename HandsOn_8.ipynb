{
  "nbformat": 4,
  "nbformat_minor": 0,
  "metadata": {
    "colab": {
      "provenance": [],
      "authorship_tag": "ABX9TyMh5NEUcypuW8FNoVgHJJdi",
      "include_colab_link": true
    },
    "kernelspec": {
      "name": "python3",
      "display_name": "Python 3"
    },
    "language_info": {
      "name": "python"
    }
  },
  "cells": [
    {
      "cell_type": "markdown",
      "metadata": {
        "id": "view-in-github",
        "colab_type": "text"
      },
      "source": [
        "<a href=\"https://colab.research.google.com/github/AniruddhaYadav-AI/DAA/blob/main/HandsOn_8.ipynb\" target=\"_parent\"><img src=\"https://colab.research.google.com/assets/colab-badge.svg\" alt=\"Open In Colab\"/></a>"
      ]
    },
    {
      "cell_type": "markdown",
      "source": [
        "Task 1: ith Order Statistic Using Quicksort"
      ],
      "metadata": {
        "id": "lgpdCHSjU-p2"
      }
    },
    {
      "cell_type": "code",
      "execution_count": 1,
      "metadata": {
        "colab": {
          "base_uri": "https://localhost:8080/"
        },
        "id": "mU_bVHdvU96n",
        "outputId": "da289143-ec15-438f-b8a2-e7a7dbbec860"
      },
      "outputs": [
        {
          "output_type": "stream",
          "name": "stdout",
          "text": [
            "The 3-th smallest element is: 3\n"
          ]
        }
      ],
      "source": [
        "def partition(arr, low, high):\n",
        "    pivot = arr[high]\n",
        "    i = low\n",
        "    for j in range(low, high):\n",
        "        if arr[j] <= pivot:\n",
        "            arr[i], arr[j] = arr[j], arr[i]\n",
        "            i += 1\n",
        "    arr[i], arr[high] = arr[high], arr[i]\n",
        "    return i\n",
        "\n",
        "def quickselect(arr, low, high, k):\n",
        "    if low == high:  # If the list contains only one element\n",
        "        return arr[low]\n",
        "\n",
        "    pivot_index = partition(arr, low, high)\n",
        "\n",
        "    # The pivot is in its final sorted position\n",
        "    if pivot_index == k:\n",
        "        return arr[pivot_index]\n",
        "    elif pivot_index > k:\n",
        "        return quickselect(arr, low, pivot_index - 1, k)\n",
        "    else:\n",
        "        return quickselect(arr, pivot_index + 1, high, k)\n",
        "\n",
        "# Example usage\n",
        "arr = [3, 2, 1, 5, 4]\n",
        "k = 2  # Looking for the 3rd smallest element (k = 2 for zero-indexing)\n",
        "print(f\"The {k+1}-th smallest element is: {quickselect(arr, 0, len(arr) - 1, k)}\")\n"
      ]
    },
    {
      "cell_type": "markdown",
      "source": [
        "Task 2: Implement Stack, Queue, and Singly Linked List Using Fixed-Size Arrays"
      ],
      "metadata": {
        "id": "RabIZFFlU_Gl"
      }
    },
    {
      "cell_type": "code",
      "source": [
        "class Stack:\n",
        "    def __init__(self, size):\n",
        "        self.size = size\n",
        "        self.stack = [0] * size  # Fixed size array\n",
        "        self.top = -1\n",
        "\n",
        "    def is_empty(self):\n",
        "        return self.top == -1\n",
        "\n",
        "    def is_full(self):\n",
        "        return self.top == self.size - 1\n",
        "\n",
        "    def push(self, value):\n",
        "        if self.is_full():\n",
        "            print(\"Stack overflow\")\n",
        "            return\n",
        "        self.top += 1\n",
        "        self.stack[self.top] = value\n",
        "\n",
        "    def pop(self):\n",
        "        if self.is_empty():\n",
        "            print(\"Stack underflow\")\n",
        "            return None\n",
        "        value = self.stack[self.top]\n",
        "        self.top -= 1\n",
        "        return value\n",
        "\n",
        "# Example usage\n",
        "stack = Stack(5)\n",
        "stack.push(10)\n",
        "stack.push(20)\n",
        "print(stack.pop())  # Outputs: 20\n"
      ],
      "metadata": {
        "colab": {
          "base_uri": "https://localhost:8080/"
        },
        "id": "9Z5DF_3ZU-4e",
        "outputId": "b16e08b2-bb7b-4c0e-dd9f-97ec1df36f17"
      },
      "execution_count": 2,
      "outputs": [
        {
          "output_type": "stream",
          "name": "stdout",
          "text": [
            "20\n"
          ]
        }
      ]
    },
    {
      "cell_type": "markdown",
      "source": [
        "Queue (Fixed-size Array)"
      ],
      "metadata": {
        "id": "kWKMN0WIVBuH"
      }
    },
    {
      "cell_type": "code",
      "source": [
        "class Queue:\n",
        "    def __init__(self, size):\n",
        "        self.size = size\n",
        "        self.queue = [0] * size  # Fixed size array\n",
        "        self.front = 0\n",
        "        self.rear = -1\n",
        "        self.count = 0\n",
        "\n",
        "    def is_empty(self):\n",
        "        return self.count == 0\n",
        "\n",
        "    def is_full(self):\n",
        "        return self.count == self.size\n",
        "\n",
        "    def enqueue(self, value):\n",
        "        if self.is_full():\n",
        "            print(\"Queue overflow\")\n",
        "            return\n",
        "        self.rear = (self.rear + 1) % self.size\n",
        "        self.queue[self.rear] = value\n",
        "        self.count += 1\n",
        "\n",
        "    def dequeue(self):\n",
        "        if self.is_empty():\n",
        "            print(\"Queue underflow\")\n",
        "            return None\n",
        "        value = self.queue[self.front]\n",
        "        self.front = (self.front + 1) % self.size\n",
        "        self.count -= 1\n",
        "        return value\n",
        "\n",
        "# Example usage\n",
        "queue = Queue(5)\n",
        "queue.enqueue(10)\n",
        "queue.enqueue(20)\n",
        "print(queue.dequeue())  # Outputs: 10\n"
      ],
      "metadata": {
        "colab": {
          "base_uri": "https://localhost:8080/"
        },
        "id": "Vi1z3TbdVDh6",
        "outputId": "8b50d776-3d9c-479a-bb59-7880c9d7ae7b"
      },
      "execution_count": 3,
      "outputs": [
        {
          "output_type": "stream",
          "name": "stdout",
          "text": [
            "10\n"
          ]
        }
      ]
    },
    {
      "cell_type": "markdown",
      "source": [
        "Singly Linked List (Simulated with Fixed-size Array)"
      ],
      "metadata": {
        "id": "VecwurygVp9i"
      }
    },
    {
      "cell_type": "code",
      "source": [
        "class Node:\n",
        "    def __init__(self, value):\n",
        "        self.value = value\n",
        "        self.next = -1  # Index of the next node\n",
        "\n",
        "class SinglyLinkedList:\n",
        "    def __init__(self, size):\n",
        "        self.size = size\n",
        "        self.list = [None] * size  # Simulated fixed size array\n",
        "        self.head = -1  # Index of the head node\n",
        "        self.free = 0  # Points to the next free spot\n",
        "\n",
        "    def insert(self, value):\n",
        "        if self.free >= self.size:\n",
        "            print(\"List overflow\")\n",
        "            return\n",
        "        new_node = Node(value)\n",
        "        self.list[self.free] = new_node\n",
        "        if self.head == -1:\n",
        "            self.head = self.free\n",
        "        else:\n",
        "            current = self.head\n",
        "            while self.list[current].next != -1:\n",
        "                current = self.list[current].next\n",
        "            self.list[current].next = self.free\n",
        "        self.free += 1\n",
        "\n",
        "    def display(self):\n",
        "        current = self.head\n",
        "        while current != -1:\n",
        "            print(self.list[current].value, end=\" -> \")\n",
        "            current = self.list[current].next\n",
        "        print(\"None\")\n",
        "\n",
        "# Example usage\n",
        "linked_list = SinglyLinkedList(5)\n",
        "linked_list.insert(10)\n",
        "linked_list.insert(20)\n",
        "linked_list.display()  # Outputs: 10 -> 20 -> None\n"
      ],
      "metadata": {
        "colab": {
          "base_uri": "https://localhost:8080/"
        },
        "id": "kR--0KlbVqGm",
        "outputId": "3d0f6a0b-e951-4d23-e7cf-e1f67ecfd619"
      },
      "execution_count": 4,
      "outputs": [
        {
          "output_type": "stream",
          "name": "stdout",
          "text": [
            "10 -> 20 -> None\n"
          ]
        }
      ]
    }
  ]
}
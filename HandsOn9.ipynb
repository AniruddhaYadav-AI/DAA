{
  "nbformat": 4,
  "nbformat_minor": 0,
  "metadata": {
    "colab": {
      "provenance": [],
      "authorship_tag": "ABX9TyPfHPlYUz8pwQ2ioJ9YiQKe",
      "include_colab_link": true
    },
    "kernelspec": {
      "name": "python3",
      "display_name": "Python 3"
    },
    "language_info": {
      "name": "python"
    }
  },
  "cells": [
    {
      "cell_type": "markdown",
      "metadata": {
        "id": "view-in-github",
        "colab_type": "text"
      },
      "source": [
        "<a href=\"https://colab.research.google.com/github/AniruddhaYadav-AI/DAA/blob/main/HandsOn9.ipynb\" target=\"_parent\"><img src=\"https://colab.research.google.com/assets/colab-badge.svg\" alt=\"Open In Colab\"/></a>"
      ]
    },
    {
      "cell_type": "markdown",
      "source": [
        "Implementing Doubly Linked List"
      ],
      "metadata": {
        "id": "W6FRpX9h6oB_"
      }
    },
    {
      "cell_type": "code",
      "source": [
        "class Node:\n",
        "    def __init__(self, key, value):\n",
        "        self.key = key\n",
        "        self.value = value\n",
        "        self.prev = None\n",
        "        self.next = None\n",
        "\n",
        "class DoublyLinkedList:\n",
        "    def __init__(self):\n",
        "        self.head = None\n",
        "        self.tail = None\n",
        "\n",
        "    def insert(self, key, value):\n",
        "        new_node = Node(key, value)\n",
        "        if self.tail:\n",
        "            self.tail.next = new_node\n",
        "            new_node.prev = self.tail\n",
        "            self.tail = new_node\n",
        "        else:\n",
        "            self.head = self.tail = new_node\n",
        "\n",
        "    def find(self, key):\n",
        "        current = self.head\n",
        "        while current:\n",
        "            if current.key == key:\n",
        "                return current\n",
        "            current = current.next\n",
        "        return None\n",
        "\n",
        "    def remove(self, key):\n",
        "        current = self.head\n",
        "        while current:\n",
        "            if current.key == key:\n",
        "                if current.prev:\n",
        "                    current.prev.next = current.next\n",
        "                if current.next:\n",
        "                    current.next.prev = current.prev\n",
        "                if current == self.head:\n",
        "                    self.head = current.next\n",
        "                if current == self.tail:\n",
        "                    self.tail = current.prev\n",
        "                return True  # Node has been successfully removed\n",
        "            current = current.next\n",
        "        return False  # Node was not found\n",
        "\n",
        "    def clear(self):\n",
        "        self.head = self.tail = None  # Clear the list\n"
      ],
      "metadata": {
        "id": "ElgankXB6lw2"
      },
      "execution_count": 22,
      "outputs": []
    },
    {
      "cell_type": "markdown",
      "source": [
        "Implementing Hash Table"
      ],
      "metadata": {
        "id": "XXTYTXNy6r55"
      }
    },
    {
      "cell_type": "code",
      "source": [
        "import math\n",
        "from array import array\n",
        "\n",
        "class HashTable:\n",
        "    def __init__(self, initial_size=8):\n",
        "        self.size = initial_size  # Initial size of the array\n",
        "        self.count = 0  # Number of elements in the table\n",
        "        self.table = [DoublyLinkedList() for _ in range(self.size)]\n",
        "        self.A = 0.618033  # Constant for multiplication method\n",
        "\n",
        "    def _division_hash(self, key):\n",
        "        return key % self.size\n",
        "\n",
        "    def _multiplication_hash(self, key):\n",
        "        fractional_part = (key * self.A) % 1\n",
        "        return int(self.size * fractional_part)\n",
        "\n",
        "    def _rehash(self, new_size):\n",
        "        old_table = self.table\n",
        "        self.table = [DoublyLinkedList() for _ in range(new_size)]\n",
        "        old_size = self.size\n",
        "        self.size = new_size\n",
        "        self.count = 0\n",
        "\n",
        "        # Re-inserting all elements into the new table\n",
        "        for chain in old_table:\n",
        "            current = chain.head\n",
        "            while current:\n",
        "                self.insert(current.key, current.value)  # Re-inserting into new table\n",
        "                current = current.next\n",
        "\n",
        "    def _check_resize(self):\n",
        "        # Doubleing the size if the table is full\n",
        "        if self.count >= self.size:\n",
        "            self._rehash(self.size * 2)\n",
        "        # Shrinking if table is less than 1/4 full\n",
        "        elif self.count <= self.size // 4 and self.size > 8:\n",
        "            self._rehash(self.size // 2)\n",
        "\n",
        "    def insert(self, key, value, use_multiplication=True):\n",
        "        index = self._multiplication_hash(key) if use_multiplication else self._division_hash(key)\n",
        "        chain = self.table[index]\n",
        "        node = chain.find(key)\n",
        "\n",
        "        if node:\n",
        "            node.value = value  # Update existing key\n",
        "        else:\n",
        "            chain.insert(key, value)  # Inserting new key-value pair\n",
        "            self.count += 1\n",
        "            self._check_resize()  # Checking if resizing is necessary\n",
        "\n",
        "    def find(self, key, use_multiplication=True):\n",
        "        index = self._multiplication_hash(key) if use_multiplication else self._division_hash(key)\n",
        "        chain = self.table[index]\n",
        "        node = chain.find(key)\n",
        "        if node:\n",
        "            return node.value\n",
        "        return None  # Key was not found\n",
        "\n",
        "    def remove(self, key, use_multiplication=True):\n",
        "        index = self._multiplication_hash(key) if use_multiplication else self._division_hash(key)\n",
        "        chain = self.table[index]\n",
        "        if chain.remove(key):\n",
        "            self.count -= 1\n",
        "            self._check_resize()\n",
        "\n",
        "    def __str__(self):\n",
        "        # For debugging purposes, to print the hash table\n",
        "        result = \"\"\n",
        "        for i, chain in enumerate(self.table):\n",
        "            result += f\"Bucket {i}: \"\n",
        "            current = chain.head\n",
        "            while current:\n",
        "                result += f\"({current.key}, {current.value}) -> \"\n",
        "                current = current.next\n",
        "            result += \"None\\n\"\n",
        "        return result\n"
      ],
      "metadata": {
        "id": "szs0wtZF6tni"
      },
      "execution_count": 20,
      "outputs": []
    },
    {
      "cell_type": "markdown",
      "source": [
        "Example"
      ],
      "metadata": {
        "id": "qByBfM7T6uIb"
      }
    },
    {
      "cell_type": "code",
      "source": [
        "# Testing the hash table\n",
        "ht = HashTable()\n",
        "\n",
        "# Inserting key-value pairs\n",
        "ht.insert(10, 110)\n",
        "ht.insert(20, 220)\n",
        "ht.insert(30, 330)\n",
        "\n",
        "# Finding values\n",
        "print(f\"Value for key 1: {ht.find(1)}\")  # Should output 100\n",
        "print(f\"Value for key 2: {ht.find(2)}\")  # Should output 200\n",
        "print(f\"Value for key 3: {ht.find(3)}\")  # Should output 300\n",
        "\n",
        "# Removeing a key\n",
        "ht.remove(2)\n",
        "print(f\"Value for key 2 after removal: {ht.find(2)}\")  # Should output None\n",
        "\n",
        "# Inserting more keys to trigger resizing\n",
        "ht.insert(40, 440)\n",
        "ht.insert(50, 550)\n",
        "\n",
        "print(ht)\n"
      ],
      "metadata": {
        "colab": {
          "base_uri": "https://localhost:8080/"
        },
        "id": "pG7L7gjM6und",
        "outputId": "fc54fab1-957d-4099-cc79-db5e2163e29b"
      },
      "execution_count": 23,
      "outputs": [
        {
          "output_type": "stream",
          "name": "stdout",
          "text": [
            "Value for key 1: None\n",
            "Value for key 2: None\n",
            "Value for key 3: None\n",
            "Value for key 2 after removal: None\n",
            "Bucket 0: None\n",
            "Bucket 1: (10, 110) -> None\n",
            "Bucket 2: (20, 220) -> None\n",
            "Bucket 3: None\n",
            "Bucket 4: (30, 330) -> None\n",
            "Bucket 5: (40, 440) -> None\n",
            "Bucket 6: None\n",
            "Bucket 7: (50, 550) -> None\n",
            "\n"
          ]
        }
      ]
    }
  ]
}
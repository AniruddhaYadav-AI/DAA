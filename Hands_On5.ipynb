{
  "nbformat": 4,
  "nbformat_minor": 0,
  "metadata": {
    "colab": {
      "provenance": [],
      "authorship_tag": "ABX9TyPQWu1C0uh8TMAyuwjFrrfU",
      "include_colab_link": true
    },
    "kernelspec": {
      "name": "python3",
      "display_name": "Python 3"
    },
    "language_info": {
      "name": "python"
    }
  },
  "cells": [
    {
      "cell_type": "markdown",
      "metadata": {
        "id": "view-in-github",
        "colab_type": "text"
      },
      "source": [
        "<a href=\"https://colab.research.google.com/github/AniruddhaYadav-AI/DAA/blob/main/Hands_On5.ipynb\" target=\"_parent\"><img src=\"https://colab.research.google.com/assets/colab-badge.svg\" alt=\"Open In Colab\"/></a>"
      ]
    },
    {
      "cell_type": "code",
      "execution_count": 1,
      "metadata": {
        "colab": {
          "base_uri": "https://localhost:8080/"
        },
        "id": "NZJXWPZIm4gy",
        "outputId": "b5caac7c-333d-4feb-afd7-b22a0a3fb55a"
      },
      "outputs": [
        {
          "output_type": "stream",
          "name": "stdout",
          "text": [
            "Heap after build:\n",
            "[5, 20, 10, 30, 40, 15, 25]\n",
            "\n",
            "Heap after insertions:\n",
            "[5, 20, 10, 30, 40, 15, 25, 45, 50]\n",
            "\n",
            "Popped root: 5\n",
            "[10, 20, 15, 30, 40, 50, 25, 45]\n",
            "\n",
            "Popped root: 10\n",
            "[15, 20, 25, 30, 40, 50, 45]\n"
          ]
        }
      ],
      "source": [
        "class MinHeap:\n",
        "    def __init__(self):\n",
        "        self.heap = []\n",
        "\n",
        "    # Bit manipulation for parent, left, and right child\n",
        "    def parent(self, index):\n",
        "        return (index - 1) >> 1\n",
        "\n",
        "    def left_child(self, index):\n",
        "        return (index << 1) + 1\n",
        "\n",
        "    def right_child(self, index):\n",
        "        return (index << 1) + 2\n",
        "\n",
        "    # Build min heap from an arbitrary list\n",
        "    def build_min_heap(self, array):\n",
        "        self.heap = array\n",
        "        n = len(array)\n",
        "        # Heapify from last parent node all the way to the root node\n",
        "        for i in range(self.parent(n - 1), -1, -1):\n",
        "            self.heapify_down(i)\n",
        "\n",
        "    # Heapify down for maintaining min heap property\n",
        "    def heapify_down(self, index):\n",
        "        smallest = index\n",
        "        left = self.left_child(index)\n",
        "        right = self.right_child(index)\n",
        "        n = len(self.heap)\n",
        "\n",
        "        if left < n and self.heap[left] < self.heap[smallest]:\n",
        "            smallest = left\n",
        "        if right < n and self.heap[right] < self.heap[smallest]:\n",
        "            smallest = right\n",
        "\n",
        "        # If the smallest is not the current index, swap and continue heapifying\n",
        "        if smallest != index:\n",
        "            self.swap(index, smallest)\n",
        "            self.heapify_down(smallest)\n",
        "\n",
        "    # Heapify up for insertion of new elements\n",
        "    def heapify_up(self, index):\n",
        "        while index > 0 and self.heap[self.parent(index)] > self.heap[index]:\n",
        "            self.swap(self.parent(index), index)\n",
        "            index = self.parent(index)\n",
        "\n",
        "    # Insert element to the heap\n",
        "    def insert(self, element):\n",
        "        self.heap.append(element)\n",
        "        self.heapify_up(len(self.heap) - 1)\n",
        "\n",
        "    # Pop the root node (minimum element)\n",
        "    def pop(self):\n",
        "        if len(self.heap) == 0:\n",
        "            return None\n",
        "        root = self.heap[0]\n",
        "        last_element = self.heap.pop()\n",
        "        if len(self.heap) > 0:\n",
        "            self.heap[0] = last_element\n",
        "            self.heapify_down(0)\n",
        "        return root\n",
        "\n",
        "    # Swap utility function\n",
        "    def swap(self, i, j):\n",
        "        self.heap[i], self.heap[j] = self.heap[j], self.heap[i]\n",
        "\n",
        "    # Get the current min (root) without popping\n",
        "    def get_min(self):\n",
        "        return self.heap[0] if self.heap else None\n",
        "\n",
        "    # Utility function to print the heap (for demonstration purposes)\n",
        "    def print_heap(self):\n",
        "        print(self.heap)\n",
        "\n",
        "# Example usage:\n",
        "\n",
        "# Create a heap and build it from an arbitrary list\n",
        "heap = MinHeap()\n",
        "heap.build_min_heap([10, 20, 15, 30, 40, 5, 25])\n",
        "\n",
        "# Print heap after building\n",
        "print(\"Heap after build:\")\n",
        "heap.print_heap()\n",
        "\n",
        "# Insert new elements\n",
        "heap.insert(45)\n",
        "heap.insert(50)\n",
        "\n",
        "print(\"\\nHeap after insertions:\")\n",
        "heap.print_heap()\n",
        "\n",
        "# Pop the root and print heap\n",
        "popped = heap.pop()\n",
        "print(f\"\\nPopped root: {popped}\")\n",
        "heap.print_heap()\n",
        "\n",
        "# Pop again\n",
        "popped = heap.pop()\n",
        "print(f\"\\nPopped root: {popped}\")\n",
        "heap.print_heap()\n",
        "\n"
      ]
    }
  ]
}